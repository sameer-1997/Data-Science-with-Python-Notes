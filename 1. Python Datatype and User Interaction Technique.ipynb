{
 "cells": [
  {
   "cell_type": "code",
   "execution_count": 1,
   "metadata": {},
   "outputs": [],
   "source": [
    "#Datatype --> A datatype is something that defines the type of the data a variable can hold !\n",
    "#Variable --> A variable is an entity which holds the data\n",
    "\n",
    "#In C programming\n",
    "# int a = 10\n",
    "# where\n",
    "#  a is a variable\n",
    "# 10 is the data (Constant)\n",
    "# int is the datatype\n",
    "# = is called assignment operator\n",
    "#\n",
    "#                   DataTypes in Python\n",
    "#                            |\n",
    "#   --------------------------------------------------------\n",
    "#   |                        |                             |\n",
    "# Numbers                  String(str)              Boolean(bool)\n",
    "#   |\n",
    "#  ----------------------------------------------\n",
    "#  |                   |                        |\n",
    "# integer(int)      float(float)             complex\n",
    "# any integer       any decimal number\n",
    "# number"
   ]
  },
  {
   "cell_type": "code",
   "execution_count": 2,
   "metadata": {},
   "outputs": [],
   "source": [
    "a = 10 #To execute the cell, Press Shift+Enter"
   ]
  },
  {
   "cell_type": "code",
   "execution_count": 3,
   "metadata": {},
   "outputs": [
    {
     "data": {
      "text/plain": [
       "10"
      ]
     },
     "execution_count": 3,
     "metadata": {},
     "output_type": "execute_result"
    }
   ],
   "source": [
    "a"
   ]
  },
  {
   "cell_type": "code",
   "execution_count": 4,
   "metadata": {},
   "outputs": [
    {
     "data": {
      "text/plain": [
       "int"
      ]
     },
     "execution_count": 4,
     "metadata": {},
     "output_type": "execute_result"
    }
   ],
   "source": [
    "type(a)"
   ]
  },
  {
   "cell_type": "code",
   "execution_count": 5,
   "metadata": {},
   "outputs": [
    {
     "data": {
      "text/plain": [
       "float"
      ]
     },
     "execution_count": 5,
     "metadata": {},
     "output_type": "execute_result"
    }
   ],
   "source": [
    "b = 2.3\n",
    "type(b)"
   ]
  },
  {
   "cell_type": "code",
   "execution_count": 6,
   "metadata": {},
   "outputs": [
    {
     "data": {
      "text/plain": [
       "bool"
      ]
     },
     "execution_count": 6,
     "metadata": {},
     "output_type": "execute_result"
    }
   ],
   "source": [
    "c = True\n",
    "type(c)"
   ]
  },
  {
   "cell_type": "code",
   "execution_count": 7,
   "metadata": {},
   "outputs": [
    {
     "data": {
      "text/plain": [
       "str"
      ]
     },
     "execution_count": 7,
     "metadata": {},
     "output_type": "execute_result"
    }
   ],
   "source": [
    "d = 'Prashant'\n",
    "type(d)"
   ]
  },
  {
   "cell_type": "code",
   "execution_count": 8,
   "metadata": {},
   "outputs": [
    {
     "data": {
      "text/plain": [
       "str"
      ]
     },
     "execution_count": 8,
     "metadata": {},
     "output_type": "execute_result"
    }
   ],
   "source": [
    "e = \"It's a beautiful days\"\n",
    "type(e)"
   ]
  },
  {
   "cell_type": "code",
   "execution_count": 9,
   "metadata": {},
   "outputs": [
    {
     "data": {
      "text/plain": [
       "complex"
      ]
     },
     "execution_count": 9,
     "metadata": {},
     "output_type": "execute_result"
    }
   ],
   "source": [
    "c = 3j\n",
    "type(c)"
   ]
  },
  {
   "cell_type": "code",
   "execution_count": 14,
   "metadata": {},
   "outputs": [
    {
     "name": "stdout",
     "output_type": "stream",
     "text": [
      "10\n",
      "20\n",
      "30\n"
     ]
    }
   ],
   "source": [
    "#Example of Addition of Two numbers\n",
    "num1 = 10\n",
    "num2 = 20\n",
    "addResult = num1 + num2\n",
    "print(num1)\n",
    "print(num2)\n",
    "print(addResult)"
   ]
  },
  {
   "cell_type": "code",
   "execution_count": 15,
   "metadata": {},
   "outputs": [],
   "source": [
    "#Mathematical Operators\n",
    "# + -- addition\n",
    "# - -- subtraction\n",
    "# * -- multiplication\n",
    "# / -- divison (Quotient)\n",
    "# % -- modulus (Remainder)\n",
    "# ** -- raise to (indices)"
   ]
  },
  {
   "cell_type": "code",
   "execution_count": 17,
   "metadata": {},
   "outputs": [
    {
     "data": {
      "text/plain": [
       "8"
      ]
     },
     "execution_count": 17,
     "metadata": {},
     "output_type": "execute_result"
    }
   ],
   "source": [
    "a = 2\n",
    "a ** 3"
   ]
  },
  {
   "cell_type": "code",
   "execution_count": 22,
   "metadata": {},
   "outputs": [
    {
     "name": "stdout",
     "output_type": "stream",
     "text": [
      "Enter Number: 4\n",
      "Enter Number: 5\n",
      "9\n",
      "The addition of 4 and 5 is 9\n"
     ]
    }
   ],
   "source": [
    "#Simple User Interaction Program\n",
    "#input() is used to accept input from the user\n",
    "#input() always represent the data in the form of string\n",
    "\n",
    "#To change the datatype of a variable we can use \"Typecasting\"\n",
    "\n",
    "#Typecasting will work successfully only when the data support that datatype\n",
    "\n",
    "num1 = int(input(\"Enter Number: \"))\n",
    "num2 = int(input(\"Enter Number: \"))\n",
    "resultAdd = num1 + num2\n",
    "print(resultAdd)\n",
    "\n",
    "#Another variation of print statement\n",
    "# The addition of 3 and 2 is 5\n",
    "\n",
    "print(\"The addition of {} and {} is {}\".format(num1,num2,resultAdd))"
   ]
  },
  {
   "cell_type": "code",
   "execution_count": 23,
   "metadata": {},
   "outputs": [
    {
     "name": "stdout",
     "output_type": "stream",
     "text": [
      "Enter Number: 3\n",
      "Enter Number: 2\n",
      "1\n",
      "The subtraction of 3 and 2 is 1\n"
     ]
    }
   ],
   "source": [
    "num1 = int(input(\"Enter Number: \"))\n",
    "num2 = int(input(\"Enter Number: \"))\n",
    "resultAdd = num1 - num2\n",
    "print(resultAdd)\n",
    "print(\"The subtraction of {} and {} is {}\".format(num1,num2,resultAdd))"
   ]
  },
  {
   "cell_type": "code",
   "execution_count": null,
   "metadata": {},
   "outputs": [],
   "source": []
  }
 ],
 "metadata": {
  "kernelspec": {
   "display_name": "Python 3",
   "language": "python",
   "name": "python3"
  },
  "language_info": {
   "codemirror_mode": {
    "name": "ipython",
    "version": 3
   },
   "file_extension": ".py",
   "mimetype": "text/x-python",
   "name": "python",
   "nbconvert_exporter": "python",
   "pygments_lexer": "ipython3",
   "version": "3.6.4"
  }
 },
 "nbformat": 4,
 "nbformat_minor": 2
}
